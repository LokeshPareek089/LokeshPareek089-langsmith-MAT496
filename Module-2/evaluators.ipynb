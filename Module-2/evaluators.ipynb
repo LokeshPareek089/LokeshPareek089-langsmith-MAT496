{
 "cells": [
  {
   "cell_type": "code",
   "execution_count": 1,
   "metadata": {},
   "outputs": [],
   "source": [
    "from langsmith.schemas import Example, Run\n",
    "\n",
    "def correct_label(inputs: dict, reference_outputs: dict, outputs: dict) -> dict:\n",
    "  score = outputs.get(\"output\") == reference_outputs.get(\"label\")\n",
    "  return {\"score\": int(score), \"key\": \"correct_label\"}"
   ]
  },
  {
   "cell_type": "code",
   "execution_count": 2,
   "metadata": {},
   "outputs": [
    {
     "data": {
      "text/plain": [
       "True"
      ]
     },
     "execution_count": 2,
     "metadata": {},
     "output_type": "execute_result"
    }
   ],
   "source": [
    "from dotenv import load_dotenv\n",
    "load_dotenv()"
   ]
  },
  {
   "cell_type": "code",
   "execution_count": 3,
   "metadata": {},
   "outputs": [],
   "source": [
    "from openai import OpenAI\n",
    "from pydantic import BaseModel, Field\n",
    "\n",
    "client = OpenAI()\n",
    "\n",
    "class Similarity_Score(BaseModel):\n",
    "    similarity_score: int = Field(description=\"Semantic similarity score between 1 and 10, where 1 means unrelated and 10 means identical.\")\n",
    "\n",
    "# NOTE: This is our evaluator\n",
    "def compare_semantic_similarity(inputs: dict, reference_outputs: dict, outputs: dict):\n",
    "    input_question = inputs[\"question\"]\n",
    "    reference_response = reference_outputs[\"output\"]\n",
    "    run_response = outputs[\"output\"]\n",
    "    \n",
    "    completion = client.beta.chat.completions.parse(\n",
    "        model=\"gpt-4o\",\n",
    "        messages=[\n",
    "            {   \n",
    "                \"role\": \"system\",\n",
    "                \"content\": (\n",
    "                    \"You are a semantic similarity evaluator. Compare the meanings of two responses to a question, \"\n",
    "                    \"Reference Response and New Response, where the reference is the correct answer, and we are trying to judge if the new response is similar. \"\n",
    "                    \"Provide a score between 1 and 10, where 1 means completely unrelated, and 10 means identical in meaning.\"\n",
    "                ),\n",
    "            },\n",
    "            {\"role\": \"user\", \"content\": f\"Question: {input_question}\\n Reference Response: {reference_response}\\n Run Response: {run_response}\"}\n",
    "        ],\n",
    "        response_format=Similarity_Score,\n",
    "    )\n",
    "\n",
    "    similarity_score = completion.choices[0].message.parsed\n",
    "    return {\"score\": similarity_score.similarity_score, \"key\": \"similarity\"}\n"
   ]
  },
  {
   "cell_type": "code",
   "execution_count": 4,
   "metadata": {},
   "outputs": [
    {
     "name": "stdout",
     "output_type": "stream",
     "text": [
      "Semantic similarity score: {'score': 1, 'key': 'similarity'}\n"
     ]
    }
   ],
   "source": [
    "# From Dataset Example\n",
    "inputs = {\n",
    "  \"question\": \"What is a vector store and why is it important for RAG applications?\"\n",
    "}\n",
    "reference_outputs = {\n",
    "  \"output\": \"A vector store is a data structure that organizes and stores embeddings, which are high-dimensional representations of data such as text, images, or other types of information. In Retrieval-Augmented Generation (RAG) applications, a vector store is essential because it facilitates efficient searching and retrieval of relevant information based on user queries, allowing the application to generate accurate and contextually relevant responses. This enhances the capabilities of the language model by grounding its outputs in external knowledge.\"\n",
    "}\n",
    "\n",
    "\n",
    "# From Run\n",
    "# We deliberately make the output less similar to test the evaluator\n",
    "outputs = {\n",
    "  \"output\": \"It stores magnitude and direction of a vector.\"\n",
    "}\n",
    "\n",
    "similarity_score = compare_semantic_similarity(inputs, reference_outputs, outputs)\n",
    "print(f\"Semantic similarity score: {similarity_score}\")"
   ]
  },
  {
   "cell_type": "code",
   "execution_count": 5,
   "metadata": {},
   "outputs": [],
   "source": [
    "from langsmith.schemas import Run, Example\n",
    "\n",
    "def compare_semantic_similarity_v2(root_run: Run, example: Example):\n",
    "    input_question = example[\"inputs\"][\"question\"]\n",
    "    reference_response = example[\"outputs\"][\"output\"]\n",
    "    run_response = root_run[\"outputs\"][\"output\"]\n",
    "    \n",
    "    completion = client.beta.chat.completions.parse(\n",
    "        model=\"gpt-4o\",\n",
    "        messages=[\n",
    "            {   \n",
    "                \"role\": \"system\",\n",
    "                \"content\": (\n",
    "                    \"You are a semantic similarity evaluator. Compare the meanings of two responses to a question, \"\n",
    "                    \"Reference Response and New Response, where the reference is the correct answer, and we are trying to judge if the new response is similar. \"\n",
    "                    \"Provide a score between 1 and 10, where 1 means completely unrelated, and 10 means identical in meaning.\"\n",
    "                ),\n",
    "            },\n",
    "            {\"role\": \"user\", \"content\": f\"Question: {input_question}\\n Reference Response: {reference_response}\\n Run Response: {run_response}\"}\n",
    "        ],\n",
    "        response_format=Similarity_Score,\n",
    "    )\n",
    "\n",
    "    similarity_score = completion.choices[0].message.parsed\n",
    "    return {\"score\": similarity_score.similarity_score, \"key\": \"similarity\"}"
   ]
  },
  {
   "cell_type": "code",
   "execution_count": 6,
   "metadata": {},
   "outputs": [
    {
     "name": "stdout",
     "output_type": "stream",
     "text": [
      "Semantic similarity score: {'score': 9, 'key': 'similarity'}\n"
     ]
    }
   ],
   "source": [
    "sample_run = {\n",
    "  \"name\": \"Sample Run\",\n",
    "  \"inputs\": {\n",
    "    \"question\": \"What is a vector store and why is it important for RAG applications?\"\n",
    "  },\n",
    "  \"outputs\": {\n",
    "    \"output\": \"It is a data structure that stores embeddings, i.e., high-dimensional representations of data. It is useful for RAG applications as it enhances LLM's performance by utilisng external knowledge.\"\n",
    "  },\n",
    "  \"is_root\": True,\n",
    "  \"status\": \"success\",\n",
    "  \"extra\": {\n",
    "    \"metadata\": {\n",
    "      \"key\": \"value\"\n",
    "    }\n",
    "  }\n",
    "}\n",
    "\n",
    "sample_example = {\n",
    "  \"inputs\": {\n",
    "    \"question\": \"What is a vector store and why is it important for RAG applications?\"\n",
    "  },\n",
    "  \"outputs\": {\n",
    "    \"output\": \"A vector store is a data structure that organizes and stores embeddings, which are high-dimensional representations of data such as text, images, or other types of information. In Retrieval-Augmented Generation (RAG) applications, a vector store is essential because it facilitates efficient searching and retrieval of relevant information based on user queries, allowing the application to generate accurate and contextually relevant responses. This enhances the capabilities of the language model by grounding its outputs in external knowledge.\"\n",
    "  },\n",
    "  \"metadata\": {\n",
    "    \"dataset_split\": [\n",
    "      \"AI generated\",\n",
    "      \"base\"\n",
    "    ]\n",
    "  }\n",
    "}\n",
    "\n",
    "similarity_score = compare_semantic_similarity_v2(sample_run, sample_example)\n",
    "print(f\"Semantic similarity score: {similarity_score}\")"
   ]
  },
  {
   "cell_type": "code",
   "execution_count": 8,
   "metadata": {},
   "outputs": [
    {
     "name": "stdout",
     "output_type": "stream",
     "text": [
      "Semantic similarity score: {'score': 8, 'key': 'similarity'}\n"
     ]
    }
   ],
   "source": [
    "sample_run = {\n",
    "    \"name\": \"Sample Run\",\n",
    "    \"inputs\": {\n",
    "        \"question\": \"What is the difference between LangChain and LangSmith?\"\n",
    "    },\n",
    "    \"outputs\": {\n",
    "        \"output\": \"LangChain is a framework for building LLM apps, while LangSmith is a monitoring tool. They work together but serve different purposes.\"\n",
    "    },\n",
    "    \"is_root\": True,\n",
    "    \"status\": \"success\",\n",
    "    \"extra\": {\n",
    "        \"metadata\": {\n",
    "            \"key\": \"value\"\n",
    "        }\n",
    "    }\n",
    "}\n",
    "\n",
    "sample_example = {\n",
    "    \"inputs\": {\n",
    "        \"question\": \"What is the difference between LangChain and LangSmith?\"\n",
    "    },\n",
    "    \"outputs\": {\n",
    "        \"output\": \"LangChain is an open-source framework for building applications with large language models, providing tools for chaining together different components like prompts, LLMs, and data sources. LangSmith, on the other hand, is a platform for monitoring, debugging, and testing LLM applications built with or without LangChain. While LangChain helps you build LLM apps, LangSmith helps you observe and improve them in production.\"\n",
    "    },\n",
    "    \"metadata\": {\n",
    "        \"dataset_split\": [\"AI generated\", \"base\"]\n",
    "    }\n",
    "}\n",
    "similarity_score = compare_semantic_similarity_v2(sample_run, sample_example)\n",
    "print(f\"Semantic similarity score: {similarity_score}\")"
   ]
  }
 ],
 "metadata": {
  "kernelspec": {
   "display_name": "venv",
   "language": "python",
   "name": "python3"
  },
  "language_info": {
   "codemirror_mode": {
    "name": "ipython",
    "version": 3
   },
   "file_extension": ".py",
   "mimetype": "text/x-python",
   "name": "python",
   "nbconvert_exporter": "python",
   "pygments_lexer": "ipython3",
   "version": "3.12.10"
  }
 },
 "nbformat": 4,
 "nbformat_minor": 4
}
