{
 "cells": [
  {
   "cell_type": "code",
   "execution_count": 1,
   "metadata": {},
   "outputs": [
    {
     "data": {
      "text/plain": [
       "True"
      ]
     },
     "execution_count": 1,
     "metadata": {},
     "output_type": "execute_result"
    }
   ],
   "source": [
    "from dotenv import load_dotenv\n",
    "load_dotenv()"
   ]
  },
  {
   "cell_type": "code",
   "execution_count": 2,
   "metadata": {},
   "outputs": [
    {
     "data": {
      "text/plain": [
       "{'example_ids': ['6c62c472-8d8e-4c41-b7ac-1829d9b9199a',\n",
       "  '69564154-ee11-4823-86b9-698254024329',\n",
       "  'cc900203-9be9-4dfd-9ee1-2748a1981701'],\n",
       " 'count': 3}"
      ]
     },
     "execution_count": 2,
     "metadata": {},
     "output_type": "execute_result"
    }
   ],
   "source": [
    "from langsmith import Client\n",
    "\n",
    "example_inputs = [\n",
    "(\"What is Sentience?\", \"The capacity to feel, perceive, or experience subjectively.\"),\n",
    "(\"What is Conciousness?\", \"The state of being aware of and able to think.\"),\n",
    "(\"Can machines ever be Sentient or Concious?\", \"This is a topic of ongoing debate in philosophy and artificial intelligence.\"),\n",
    "]\n",
    "\n",
    "client = Client()\n",
    "dataset_name = \"Sentience\"\n",
    "\n",
    "dataset = client.create_dataset(\n",
    "  dataset_name=dataset_name, description=\"Sample questions about color\",\n",
    ")\n",
    "\n",
    "inputs = [{\"question\": input_prompt} for input_prompt, _ in example_inputs]\n",
    "outputs = [{\"output\": output_answer} for _, output_answer in example_inputs]\n",
    "\n",
    "client.create_examples(\n",
    "  inputs=inputs,\n",
    "  outputs=outputs,\n",
    "  dataset_id=dataset.id,\n",
    ")"
   ]
  }
 ],
 "metadata": {
  "kernelspec": {
   "display_name": "Python 3 (ipykernel)",
   "language": "python",
   "name": "python3"
  },
  "language_info": {
   "codemirror_mode": {
    "name": "ipython",
    "version": 3
   },
   "file_extension": ".py",
   "mimetype": "text/x-python",
   "name": "python",
   "nbconvert_exporter": "python",
   "pygments_lexer": "ipython3",
   "version": "3.12.10"
  }
 },
 "nbformat": 4,
 "nbformat_minor": 4
}
